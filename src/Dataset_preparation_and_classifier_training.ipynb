{
 "cells": [
  {
   "cell_type": "markdown",
   "metadata": {},
   "source": [
    "# 1. Dataset preparation"
   ]
  },
  {
   "cell_type": "code",
   "execution_count": 7,
   "metadata": {},
   "outputs": [],
   "source": [
    "## import necessary packages and utility functions\n",
    "from utils import *\n",
    "import os\n",
    "import pickle\n",
    "from time import time\n",
    "import scipy.stats as stats\n",
    "from sklearn.model_selection import GridSearchCV, RandomizedSearchCV, train_test_split\n",
    "from sklearn.linear_model import SGDClassifier\n",
    "from sklearn.ensemble import RandomForestClassifier\n",
    "from sklearn.metrics import f1_score,accuracy_score,precision_score,classification_report\n",
    "import os\n",
    "import matplotlib.pyplot as plt\n",
    "import pandas as pd\n",
    "import numpy as np\n",
    "import pickle\n",
    "\n",
    "\n",
    "# Utility function to report best scores\n",
    "def report(results, n_top=3):\n",
    "    for i in range(1, n_top + 1):\n",
    "        candidates = np.flatnonzero(results['rank_test_score'] == i)\n",
    "        for candidate in candidates:\n",
    "            print(\"Model with rank: {0}\".format(i))\n",
    "            print(\"Mean validation score: {0:.3f} (std: {1:.3f})\"\n",
    "                  .format(results['mean_test_score'][candidate],\n",
    "                          results['std_test_score'][candidate]))\n",
    "            print(\"Parameters: {0}\".format(results['params'][candidate]))\n",
    "            print(\"\")\n",
    "\n"
   ]
  },
  {
   "cell_type": "markdown",
   "metadata": {},
   "source": [
    "## a. Convert track features to spots info\n",
    "Assuming the registration and pairing steps are done."
   ]
  },
  {
   "cell_type": "code",
   "execution_count": 2,
   "metadata": {},
   "outputs": [
    {
     "name": "stdout",
     "output_type": "stream",
     "text": [
      "Number of cells: 431\n"
     ]
    }
   ],
   "source": [
    "os.chdir('/Users/yifan/Dropbox/ZYF/dev/centracker_debug/train_trial/')\n",
    "\n",
    "## features -> spots\n",
    "features = pd.read_csv('predictions.csv')\n",
    "r_xml_path = 'r_Film2.xml'\n",
    "movie = 'r_Film2'\n",
    "framerate = 29.98\n",
    "conversion = {'x': 0.3002646, 'y': 0.3002646, 'z':0.5}\n",
    "output_csv_path = 'spots_all.csv'\n",
    "\n",
    "features2spots(features,r_xml_path,movie,framerate,conversion,output_csv_path)"
   ]
  },
  {
   "cell_type": "markdown",
   "metadata": {},
   "source": [
    "## b. Manually validate the track pairs\n",
    "- via MATLAB GUI\n",
    "- generate 1/0 (True/False) labels on the *predictions.csv* file"
   ]
  },
  {
   "cell_type": "markdown",
   "metadata": {},
   "source": [
    "## c. Convert the track pair features & labels to a sklearn-usable format"
   ]
  },
  {
   "cell_type": "code",
   "execution_count": 4,
   "metadata": {},
   "outputs": [],
   "source": [
    "from sklearn.preprocessing import MinMaxScaler\n",
    "\n",
    "data = pd.read_csv('r_Film2_labels.csv')\n",
    "scaler = MinMaxScaler()\n",
    "data['contrast_normalized'] = scaler.fit_transform(data['contrast'].values.reshape(-1,1))\n",
    "data['intensity_normalized'] = scaler.fit_transform(data['intensity'].values.reshape(-1,1))\n",
    "\n",
    "\n",
    "true = data[data['True_Label']==1]\n",
    "false = data[data['True_Label']==0]\n",
    "false = false.sample(100, random_state=3020)\n",
    "data = pd.concat([false, true], axis=0)\n",
    "\n",
    "y = data[['True_Label']]\n",
    "X = data[['center_stdev','normal_stdev','sl_f', 'sl_i', 'sl_max', 'sl_min', 't_cong',\n",
    "        't_overlap', 'intensity_normalized', 'diameter', 'contrast_normalized']]\n",
    "\n",
    "X.to_csv('X.csv')\n",
    "y.to_csv('y.csv')"
   ]
  },
  {
   "cell_type": "markdown",
   "metadata": {},
   "source": [
    "# 2. Classifier"
   ]
  },
  {
   "cell_type": "markdown",
   "metadata": {},
   "source": [
    "## a. Hyperparameter tuning"
   ]
  },
  {
   "cell_type": "code",
   "execution_count": 9,
   "metadata": {},
   "outputs": [
    {
     "name": "stdout",
     "output_type": "stream",
     "text": [
      "GridSearchCV took 11.31 seconds for 38 candidate parameter settings.\n",
      "Model with rank: 1\n",
      "Mean validation score: 0.894 (std: 0.037)\n",
      "Parameters: {'min_impurity_decrease': 0.0, 'n_estimators': 145, 'warm_start': False}\n",
      "\n",
      "Model with rank: 2\n",
      "Mean validation score: 0.885 (std: 0.012)\n",
      "Parameters: {'min_impurity_decrease': 0.0, 'n_estimators': 95, 'warm_start': False}\n",
      "\n",
      "Model with rank: 3\n",
      "Mean validation score: 0.876 (std: 0.032)\n",
      "Parameters: {'min_impurity_decrease': 0.0, 'n_estimators': 25, 'warm_start': False}\n",
      "\n",
      "Model with rank: 3\n",
      "Mean validation score: 0.876 (std: 0.032)\n",
      "Parameters: {'min_impurity_decrease': 0.0, 'n_estimators': 75, 'warm_start': False}\n",
      "\n"
     ]
    }
   ],
   "source": [
    "# get data\n",
    "X = pd.read_csv('X.csv',index_col=0)\n",
    "y = pd.read_csv('y.csv',index_col=0)\n",
    "X = X.to_numpy()\n",
    "y = y.to_numpy()\n",
    "X_train, X_test, y_train, y_test = train_test_split(X, y, test_size=0.33, random_state=12)\n",
    "    \n",
    "\n",
    "# build a classifier\n",
    "clf = RandomForestClassifier(criterion='gini')\n",
    "\n",
    "\n",
    "# use a full grid over all parameters\n",
    "param_grid = {'min_impurity_decrease':[0.0],\n",
    "              'n_estimators': list(range(10,200,5)),\n",
    "              'warm_start':[False]}\n",
    "\n",
    "# run grid search\n",
    "grid_search = GridSearchCV(clf, param_grid=param_grid,cv=3,scoring='accuracy')\n",
    "start = time()\n",
    "grid_search.fit(X_train, y_train.ravel())\n",
    "\n",
    "print(\"GridSearchCV took %.2f seconds for %d candidate parameter settings.\"\n",
    "      % (time() - start, len(grid_search.cv_results_['params'])))\n",
    "report(grid_search.cv_results_)"
   ]
  },
  {
   "cell_type": "markdown",
   "metadata": {},
   "source": [
    "## b. Classifier training"
   ]
  },
  {
   "cell_type": "code",
   "execution_count": 10,
   "metadata": {},
   "outputs": [
    {
     "name": "stdout",
     "output_type": "stream",
     "text": [
      "              precision    recall  f1-score   support\n",
      "\n",
      "           0       0.78      0.91      0.84        34\n",
      "           1       0.81      0.59      0.68        22\n",
      "\n",
      "    accuracy                           0.79        56\n",
      "   macro avg       0.79      0.75      0.76        56\n",
      "weighted avg       0.79      0.79      0.78        56\n",
      "\n",
      "0.7897321428571429\n",
      "0.7857142857142857\n",
      "0.6842105263157896\n"
     ]
    }
   ],
   "source": [
    "final_clf = RandomForestClassifier(min_impurity_decrease=0.0,criterion='gini',warm_start=False, n_estimators=145)\n",
    "final_clf.fit(X_train, np.ravel(y_train,order='C'))\n",
    "y_pred = final_clf.predict(X_test)\n",
    "y_true = np.ravel(y_test,order='C')\n",
    "pre_score = precision_score(y_true, y_pred, average='weighted')\n",
    "acc_score = accuracy_score(y_true, y_pred)\n",
    "f1_score = f1_score(y_true,y_pred)\n",
    "print(classification_report(y_true, y_pred))\n",
    "print(pre_score)\n",
    "print(acc_score)\n",
    "print(f1_score)\n",
    "filename = 'myModel.sav'\n",
    "pickle.dump(final_clf, open(filename, 'wb'))"
   ]
  },
  {
   "cell_type": "code",
   "execution_count": null,
   "metadata": {},
   "outputs": [],
   "source": []
  },
  {
   "cell_type": "code",
   "execution_count": null,
   "metadata": {},
   "outputs": [],
   "source": []
  }
 ],
 "metadata": {
  "kernelspec": {
   "display_name": "Python 3",
   "language": "python",
   "name": "python3"
  },
  "language_info": {
   "codemirror_mode": {
    "name": "ipython",
    "version": 3
   },
   "file_extension": ".py",
   "mimetype": "text/x-python",
   "name": "python",
   "nbconvert_exporter": "python",
   "pygments_lexer": "ipython3",
   "version": "3.8.3"
  }
 },
 "nbformat": 4,
 "nbformat_minor": 4
}
