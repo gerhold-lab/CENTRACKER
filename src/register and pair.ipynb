{
 "cells": [
  {
   "cell_type": "code",
   "execution_count": 1,
   "metadata": {},
   "outputs": [],
   "source": [
    "## import necessary packages and utility functions\n",
    "from utils import *\n",
    "import os\n",
    "import pickle"
   ]
  },
  {
   "cell_type": "markdown",
   "metadata": {},
   "source": [
    "## 1. Register the movie"
   ]
  },
  {
   "cell_type": "code",
   "execution_count": 2,
   "metadata": {},
   "outputs": [],
   "source": [
    "## specify file paths related to movie registration\n",
    "root = '/Users/yifan/Dropbox/ZYF/dev/centracker_debug/'\n",
    "hr_tiff = root+'/trial/2018-01-16_GSC_L4_L4440_RNAi.tif'\n",
    "hr_output = root+'/trial/r_2018-01-16_GSC_L4_L4440_RNAi_trial.tif'\n",
    "csv_path = root+'trial/roi/'\n",
    "n_roi = 2"
   ]
  },
  {
   "cell_type": "code",
   "execution_count": null,
   "metadata": {},
   "outputs": [
    {
     "name": "stdout",
     "output_type": "stream",
     "text": [
      "Multiple channels detected...\n",
      "Start processing t = 0\n",
      "Start processing t = 1\n",
      "Start processing t = 2\n",
      "Start processing t = 3\n",
      "Start processing t = 4\n",
      "Start processing t = 5\n",
      "Start processing t = 6\n",
      "Start processing t = 7\n",
      "Start processing t = 8\n",
      "Start processing t = 9\n",
      "Start processing t = 10\n",
      "Start processing t = 11\n",
      "Start processing t = 12\n",
      "Start processing t = 13\n",
      "Start processing t = 14\n",
      "Start processing t = 15\n",
      "Start processing t = 16\n",
      "Start processing t = 17\n",
      "Start processing t = 18\n",
      "Start processing t = 19\n",
      "Start processing t = 20\n",
      "Start processing t = 21\n",
      "Start processing t = 22\n"
     ]
    }
   ],
   "source": [
    "## register\n",
    "metadata = register_w_roi(hr_tiff,hr_output,csv_path,n_roi=2,high_res=True,compress=1,pad=True)"
   ]
  },
  {
   "cell_type": "markdown",
   "metadata": {},
   "source": [
    "## 2. Run the registered movie through TrackMate"
   ]
  },
  {
   "cell_type": "markdown",
   "metadata": {},
   "source": [
    "## 3. Pair the tracks"
   ]
  },
  {
   "cell_type": "code",
   "execution_count": null,
   "metadata": {},
   "outputs": [],
   "source": [
    "## specify file paths related to track pairing\n",
    "model_path = root+'/src/myModel.sav'\n",
    "registeredXML = root+'/trial/r_2018-01-16_GSC_L4_L4440_RNAi.xml'\n",
    "originalMovie = root+'/trial/2018-01-16_GSC_L4_L4440_RNAi.tif'\n",
    "out_folder = root+'/trial/'\n",
    "out_csv = root+'/trial/spots.csv'"
   ]
  },
  {
   "cell_type": "code",
   "execution_count": null,
   "metadata": {},
   "outputs": [],
   "source": [
    "## load classifier\n",
    "model = pickle.load(open(model_path, 'rb'))\n",
    "## pair the tracks\n",
    "pair(model,registeredXML,originalMovie,out_folder,out_csv,\n",
    "                 maxdist=11,mindist=4,maxcongdist=4,minoverlap=10,dim=None)"
   ]
  },
  {
   "cell_type": "code",
   "execution_count": null,
   "metadata": {},
   "outputs": [],
   "source": []
  }
 ],
 "metadata": {
  "kernelspec": {
   "display_name": "Python 3",
   "language": "python",
   "name": "python3"
  },
  "language_info": {
   "codemirror_mode": {
    "name": "ipython",
    "version": 3
   },
   "file_extension": ".py",
   "mimetype": "text/x-python",
   "name": "python",
   "nbconvert_exporter": "python",
   "pygments_lexer": "ipython3",
   "version": "3.8.3"
  }
 },
 "nbformat": 4,
 "nbformat_minor": 4
}
