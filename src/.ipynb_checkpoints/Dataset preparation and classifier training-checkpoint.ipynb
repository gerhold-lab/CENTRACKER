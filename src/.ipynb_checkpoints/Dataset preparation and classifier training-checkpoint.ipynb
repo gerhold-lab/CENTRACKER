{
 "cells": [
  {
   "cell_type": "code",
   "execution_count": 1,
   "metadata": {},
   "outputs": [],
   "source": [
    "## import necessary packages and utlity functions\n",
    "from utils import *\n",
    "import os\n",
    "import pickle"
   ]
  },
  {
   "cell_type": "code",
   "execution_count": null,
   "metadata": {},
   "outputs": [],
   "source": []
  },
  {
   "cell_type": "markdown",
   "metadata": {},
   "source": [
    "## Convert track features to spots info\n",
    "Assuming the registration and pairing steps are done."
   ]
  },
  {
   "cell_type": "code",
   "execution_count": 2,
   "metadata": {},
   "outputs": [
    {
     "name": "stdout",
     "output_type": "stream",
     "text": [
      "Number of cells: 431\n"
     ]
    }
   ],
   "source": [
    "os.chdir('/Users/yifan/Dropbox/ZYF/dev/centracker_debug/train_trial/')\n",
    "\n",
    "## features -> spots\n",
    "features = pd.read_csv('predictions.csv')\n",
    "r_xml_path = 'r_Film2.xml'\n",
    "movie = 'r_Film2'\n",
    "framerate = 29.98\n",
    "conversion = {'x': 0.3002646, 'y': 0.3002646, 'z':0.5}\n",
    "output_csv_path = 'spots_all.csv'\n",
    "\n",
    "features2spots(features,r_xml_path,movie,framerate,conversion,output_csv_path)"
   ]
  },
  {
   "cell_type": "markdown",
   "metadata": {},
   "source": [
    "## Manually validate the track pairs\n",
    "- via MATLAB GUI\n",
    "- generate 1/0 (True/False) labels on the *predictions.csv* file"
   ]
  },
  {
   "cell_type": "markdown",
   "metadata": {},
   "source": [
    "## Convert the track pair features & labels to ML dataset format "
   ]
  },
  {
   "cell_type": "code",
   "execution_count": 4,
   "metadata": {},
   "outputs": [],
   "source": [
    "from sklearn.preprocessing import MinMaxScaler\n",
    "\n",
    "data = pd.read_csv('r_Film2_labels.csv')\n",
    "scaler = MinMaxScaler()\n",
    "data['contrast_normalized'] = scaler.fit_transform(data['contrast'].values.reshape(-1,1))\n",
    "data['intensity_normalized'] = scaler.fit_transform(data['intensity'].values.reshape(-1,1))\n",
    "\n",
    "\n",
    "true = data[data['True_Label']==1]\n",
    "false = data[data['True_Label']==0]\n",
    "false = false.sample(100, random_state=3020)\n",
    "data = pd.concat([false, true], axis=0)\n",
    "\n",
    "y = data[['True_Label']]\n",
    "X = data[['center_stdev','normal_stdev','sl_f', 'sl_i', 'sl_max', 'sl_min', 't_cong',\n",
    "        't_overlap', 'intensity_normalized', 'diameter', 'contrast_normalized']]\n",
    "\n",
    "X.to_csv('X.csv')\n",
    "y.to_csv('y.csv')"
   ]
  },
  {
   "cell_type": "code",
   "execution_count": null,
   "metadata": {},
   "outputs": [],
   "source": [
    "## "
   ]
  }
 ],
 "metadata": {
  "kernelspec": {
   "display_name": "Python 3",
   "language": "python",
   "name": "python3"
  },
  "language_info": {
   "codemirror_mode": {
    "name": "ipython",
    "version": 3
   },
   "file_extension": ".py",
   "mimetype": "text/x-python",
   "name": "python",
   "nbconvert_exporter": "python",
   "pygments_lexer": "ipython3",
   "version": "3.8.3"
  }
 },
 "nbformat": 4,
 "nbformat_minor": 4
}
