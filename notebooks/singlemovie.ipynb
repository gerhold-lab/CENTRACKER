{
 "cells": [
  {
   "cell_type": "markdown",
   "metadata": {},
   "source": [
    "# Register and pair for a single movie\n",
    "\n",
    "First, provide root and movie names."
   ]
  },
  {
   "cell_type": "code",
   "execution_count": 1,
   "metadata": {},
   "outputs": [],
   "source": [
    "## specify file paths related to movie registration\n",
    "root = '../data/'\n",
    "movie_name = '2018-01-16_GSC_L4_L4440_RNAi'"
   ]
  },
  {
   "cell_type": "code",
   "execution_count": null,
   "metadata": {},
   "outputs": [],
   "source": []
  },
  {
   "cell_type": "code",
   "execution_count": 2,
   "metadata": {},
   "outputs": [],
   "source": [
    "## import necessary packages and utility functions\n",
    "import sys\n",
    "sys.path.append('../src/')\n",
    "from utils import *\n",
    "import os\n",
    "import pickle"
   ]
  },
  {
   "cell_type": "markdown",
   "metadata": {},
   "source": [
    "## Module 1:  movie registration"
   ]
  },
  {
   "cell_type": "code",
   "execution_count": null,
   "metadata": {
    "scrolled": true
   },
   "outputs": [
    {
     "name": "stdout",
     "output_type": "stream",
     "text": [
      "Number of ROI found:  2\n",
      "Start registration...\n",
      "Multiple channels detected...\n",
      "Start processing t = 0\n",
      "Start processing t = 1\n",
      "Start processing t = 2\n",
      "Start processing t = 3\n",
      "Start processing t = 4\n",
      "Start processing t = 5\n",
      "Start processing t = 6\n",
      "Start processing t = 7\n",
      "Start processing t = 8\n",
      "Start processing t = 9\n",
      "Start processing t = 10\n",
      "Start processing t = 11\n",
      "Start processing t = 12\n",
      "Start processing t = 13\n",
      "Start processing t = 14\n",
      "Start processing t = 15\n",
      "Start processing t = 16\n",
      "Start processing t = 17\n",
      "Start processing t = 18\n",
      "Start processing t = 19\n",
      "Start processing t = 20\n",
      "Start processing t = 21\n",
      "Start processing t = 22\n",
      "Start processing t = 23\n",
      "Start processing t = 24\n",
      "Start processing t = 25\n",
      "Start processing t = 26\n",
      "Start processing t = 27\n",
      "Start processing t = 28\n",
      "Start processing t = 29\n",
      "Start processing t = 30\n",
      "Start processing t = 31\n",
      "Start processing t = 32\n",
      "Start processing t = 33\n",
      "Start processing t = 34\n",
      "Start processing t = 35\n",
      "Start processing t = 36\n",
      "Start processing t = 37\n",
      "Start processing t = 38\n",
      "Start processing t = 39\n",
      "Start processing t = 40\n",
      "Start processing t = 41\n",
      "Start processing t = 42\n",
      "Start processing t = 43\n",
      "Start processing t = 44\n",
      "Start processing t = 45\n",
      "Start processing t = 46\n",
      "Start processing t = 47\n"
     ]
    }
   ],
   "source": [
    "## register\n",
    "register_movie(root, movie_name, pad=True)"
   ]
  },
  {
   "cell_type": "markdown",
   "metadata": {},
   "source": [
    "## Module 3: track pair classification\n",
    "Specify file paths related to track pairing, if different from above"
   ]
  },
  {
   "cell_type": "code",
   "execution_count": null,
   "metadata": {},
   "outputs": [],
   "source": [
    "root = '../data/'\n",
    "movie_name = '2018-01-16_GSC_L4_L4440_RNAi'\n",
    "\n",
    "## specify file paths related to track pairing\n",
    "model_path = '../src/myModel.sav'"
   ]
  },
  {
   "cell_type": "code",
   "execution_count": null,
   "metadata": {},
   "outputs": [],
   "source": [
    "originalMovie = '{}/{}/{}.tif'.format(root,movie_name,movie_name)\n",
    "registeredXML = '{}/{}/r_{}.xml'.format(root,movie_name,movie_name)\n",
    "out_folder ='{}/{}/'.format(root,movie_name)\n",
    "out_csv='{}/r_{}.txt'.format(out_folder,movie_name)\n",
    "\n",
    "## load classifier\n",
    "model = pickle.load(open(model_path, 'rb'))\n",
    "\n",
    "## pair the tracks\n",
    "pair(model,registeredXML,originalMovie,out_folder,out_csv,\n",
    "                 maxdist=11,mindist=4,maxcongdist=4,minoverlap=10)"
   ]
  },
  {
   "cell_type": "code",
   "execution_count": null,
   "metadata": {},
   "outputs": [],
   "source": []
  },
  {
   "cell_type": "code",
   "execution_count": null,
   "metadata": {},
   "outputs": [],
   "source": []
  }
 ],
 "metadata": {
  "kernelspec": {
   "display_name": "Python 3",
   "language": "python",
   "name": "python3"
  },
  "language_info": {
   "codemirror_mode": {
    "name": "ipython",
    "version": 3
   },
   "file_extension": ".py",
   "mimetype": "text/x-python",
   "name": "python",
   "nbconvert_exporter": "python",
   "pygments_lexer": "ipython3",
   "version": "3.8.3"
  }
 },
 "nbformat": 4,
 "nbformat_minor": 4
}
