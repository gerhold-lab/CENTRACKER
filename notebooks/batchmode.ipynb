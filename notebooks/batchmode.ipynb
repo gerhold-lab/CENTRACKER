{
 "cells": [
  {
   "cell_type": "markdown",
   "metadata": {},
   "source": [
    "# Batch mode registration and pairing for a folder of movies\n",
    "\n",
    "First, provide the root."
   ]
  },
  {
   "cell_type": "code",
   "execution_count": 2,
   "metadata": {},
   "outputs": [],
   "source": [
    "## specify file paths related to movie registration\n",
    "root = '../data/'"
   ]
  },
  {
   "cell_type": "code",
   "execution_count": 6,
   "metadata": {},
   "outputs": [],
   "source": [
    "## import necessary packages and utility functions\n",
    "import sys\n",
    "sys.path.append('../src/')\n",
    "from utils import *\n",
    "import os\n",
    "import pickle"
   ]
  },
  {
   "cell_type": "code",
   "execution_count": 9,
   "metadata": {},
   "outputs": [
    {
     "name": "stdout",
     "output_type": "stream",
     "text": [
      "Folders detected: \n",
      "2018-01-16_GSC_L4_L4440_RNAicopy\n",
      "2018-01-16_GSC_L4_L4440_RNAi\n"
     ]
    }
   ],
   "source": [
    "# get all movienames\n",
    "(_,movie_names,_) = next(os.walk(root))\n",
    "print('Folders detected: ')2\n",
    "for m in movie_names:\n",
    "    print(m)"
   ]
  },
  {
   "cell_type": "markdown",
   "metadata": {},
   "source": [
    "## Module 1:  movie registration"
   ]
  },
  {
   "cell_type": "code",
   "execution_count": null,
   "metadata": {
    "scrolled": true
   },
   "outputs": [
    {
     "name": "stdout",
     "output_type": "stream",
     "text": [
      "2018-01-16_GSC_L4_L4440_RNAicopy\n",
      "Number of ROI found:  2\n",
      "Start registration...\n",
      "Multiple channels detected...\n",
      "Start processing t = 0\n",
      "Start processing t = 1\n",
      "Start processing t = 2\n",
      "Start processing t = 3\n",
      "Start processing t = 4\n",
      "Start processing t = 5\n",
      "Start processing t = 6\n",
      "Start processing t = 7\n",
      "Start processing t = 8\n",
      "Start processing t = 9\n",
      "Start processing t = 10\n",
      "Start processing t = 11\n",
      "Start processing t = 12\n",
      "Start processing t = 13\n",
      "Start processing t = 14\n",
      "Start processing t = 15\n",
      "Start processing t = 16\n"
     ]
    }
   ],
   "source": [
    "## register\n",
    "for movie_name in movie_names:\n",
    "    print(movie_name)\n",
    "    register_movie(root, movie_name, pad=True)"
   ]
  },
  {
   "cell_type": "markdown",
   "metadata": {},
   "source": [
    "## Module 3: track pair classification\n",
    "Specify the root dir, if different from the above."
   ]
  },
  {
   "cell_type": "code",
   "execution_count": null,
   "metadata": {},
   "outputs": [],
   "source": [
    "root = '../data/'\n",
    "movie_name = '2018-01-16_GSC_L4_L4440_RNAi'\n",
    "\n",
    "## specify file paths related to track pairing\n",
    "model_path = '../src/myModel.sav'"
   ]
  },
  {
   "cell_type": "code",
   "execution_count": null,
   "metadata": {},
   "outputs": [],
   "source": [
    "# get all movienames\n",
    "(_,movie_names,_) = next(os.walk(root))\n",
    "print('Folders detected: ')\n",
    "for m in movie_names:\n",
    "    print(m)"
   ]
  },
  {
   "cell_type": "code",
   "execution_count": null,
   "metadata": {},
   "outputs": [],
   "source": [
    "for movie_name in movie_names:\n",
    "    print(movie_name)\n",
    "    originalMovie = '{}{}/{}.tif'.format(root,movie_name,movie_name)\n",
    "    registeredXML = '{}{}/r_{}.xml'.format(root,movie_name,movie_name)\n",
    "    out_folder ='{}/{}/'.format(root,movie_name)\n",
    "    out_csv='{}/r_{}.txt'.format(out_folder,movie_name)\n",
    "\n",
    "    ## load classifier\n",
    "    model = pickle.load(open(model_path, 'rb'))\n",
    "\n",
    "    ## pair the tracks\n",
    "    pair(model,registeredXML,originalMovie,out_folder,out_csv,\n",
    "                     maxdist=11,mindist=4,maxcongdist=4,minoverlap=10,dim=None)"
   ]
  },
  {
   "cell_type": "code",
   "execution_count": null,
   "metadata": {},
   "outputs": [],
   "source": []
  },
  {
   "cell_type": "code",
   "execution_count": null,
   "metadata": {},
   "outputs": [],
   "source": []
  }
 ],
 "metadata": {
  "kernelspec": {
   "display_name": "Python 3",
   "language": "python",
   "name": "python3"
  },
  "language_info": {
   "codemirror_mode": {
    "name": "ipython",
    "version": 3
   },
   "file_extension": ".py",
   "mimetype": "text/x-python",
   "name": "python",
   "nbconvert_exporter": "python",
   "pygments_lexer": "ipython3",
   "version": "3.8.3"
  }
 },
 "nbformat": 4,
 "nbformat_minor": 4
}
