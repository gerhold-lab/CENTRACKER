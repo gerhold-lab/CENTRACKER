{
 "cells": [
  {
   "cell_type": "markdown",
   "metadata": {},
   "source": [
    "# The trainable option\n",
    "## 1. Dataset preparation"
   ]
  },
  {
   "cell_type": "code",
   "execution_count": null,
   "metadata": {},
   "outputs": [],
   "source": [
    "## import necessary packages and utility functions\n",
    "import sys\n",
    "sys.path.append('../src/')\n",
    "from utils import *\n",
    "import os\n",
    "import pickle\n",
    "from time import time\n",
    "import scipy.stats as stats\n",
    "import pandas as pd\n",
    "import numpy as np\n",
    "from sklearn.model_selection import GridSearchCV, RandomizedSearchCV, train_test_split\n",
    "from sklearn.linear_model import SGDClassifier\n",
    "from sklearn.ensemble import RandomForestClassifier\n",
    "from sklearn.metrics import f1_score,accuracy_score,precision_score,classification_report\n",
    "from sklearn.preprocessing import MinMaxScaler\n",
    "\n",
    "# Utility function to report best scores\n",
    "def report(results, n_top=3):\n",
    "    for i in range(1, n_top + 1):\n",
    "        candidates = np.flatnonzero(results['rank_test_score'] == i)\n",
    "        for candidate in candidates:\n",
    "            print(\"Model with rank: {0}\".format(i))\n",
    "            print(\"Mean validation score: {0:.3f} (std: {1:.3f})\"\n",
    "                  .format(results['mean_test_score'][candidate],\n",
    "                          results['std_test_score'][candidate]))\n",
    "            print(\"Parameters: {0}\".format(results['params'][candidate]))\n",
    "            print(\"\")"
   ]
  },
  {
   "cell_type": "markdown",
   "metadata": {},
   "source": [
    "## step 1: Registration, tracking and pairing (Modules 1-3)\n",
    "\n",
    "\n",
    "## step 2: Convert the track features to spots info"
   ]
  },
  {
   "cell_type": "code",
   "execution_count": null,
   "metadata": {},
   "outputs": [],
   "source": [
    "root = '../data/train_example/'\n",
    "m_name = 'Film2'"
   ]
  },
  {
   "cell_type": "code",
   "execution_count": null,
   "metadata": {},
   "outputs": [],
   "source": [
    "## features -> spots\n",
    "features = pd.read_csv('{}/{}/predictions.csv'.format(root, m_name))\n",
    "r_xml_path = '{}/{}/r_{}.xml'.format(root, m_name, m_name)\n",
    "r_movie = '{}/{}/r_{}'.format(root,m_name,m_name)\n",
    "output_csv_path = '{}/{}/r_{}.txt'.format(root, m_name, m_name)\n",
    "\n",
    "features2spots(features,r_xml_path,r_movie,output_csv_path)"
   ]
  },
  {
   "cell_type": "markdown",
   "metadata": {},
   "source": [
    "## step 3: Label the putative track pairs - see README"
   ]
  },
  {
   "cell_type": "markdown",
   "metadata": {},
   "source": [
    "## step 4: Convert the track pair features & labels to a sklearn-usable format"
   ]
  },
  {
   "cell_type": "code",
   "execution_count": null,
   "metadata": {},
   "outputs": [],
   "source": [
    "true = pd.read_csv('{}/{}/True.csv'.format(root,m_name), index_col=0)\n",
    "\n",
    "data = pd.read_csv('{}/{}/predictions.csv'.format(root,m_name))\n",
    "data['True_Label'] = true['True_pairs'].values\n",
    "scaler = MinMaxScaler()\n",
    "data['contrast_normalized'] = scaler.fit_transform(data['contrast'].values.reshape(-1,1))\n",
    "data['intensity_normalized'] = scaler.fit_transform(data['intensity'].values.reshape(-1,1))\n",
    "\n",
    "true = data[data['True_Label']==1]\n",
    "false = data[data['True_Label']==0]\n",
    "false = false.sample(100, random_state=3020)\n",
    "data = pd.concat([false, true], axis=0)\n",
    "\n",
    "y = data[['True_Label']]\n",
    "X = data[['center_stdev','normal_stdev','sl_f', 'sl_i', 'sl_max', 'sl_min', 't_cong',\n",
    "        't_overlap', 'intensity_normalized', 'diameter', 'contrast_normalized']]\n",
    "\n",
    "X.to_csv('{}/{}/X.csv'.format(root, m_name))\n",
    "y.to_csv('{}/{}/y.csv'.format(root, m_name))"
   ]
  },
  {
   "cell_type": "markdown",
   "metadata": {},
   "source": [
    "## Additional: batch mode"
   ]
  },
  {
   "cell_type": "code",
   "execution_count": null,
   "metadata": {},
   "outputs": [],
   "source": [
    "root = '../data/train_example'"
   ]
  },
  {
   "cell_type": "code",
   "execution_count": null,
   "metadata": {},
   "outputs": [],
   "source": [
    "# get all movienames\n",
    "(_,movie_names,_) = next(os.walk(root))\n",
    "print('Folders detected: ')\n",
    "for m in movie_names:\n",
    "    print(m)"
   ]
  },
  {
   "cell_type": "code",
   "execution_count": null,
   "metadata": {},
   "outputs": [],
   "source": [
    "for m_name in movie_names:\n",
    "    ## features -> spots\n",
    "    features = pd.read_csv('{}/{}/predictions.csv'.format(root, m_name))\n",
    "    r_xml_path = '{}/{}/r_{}.xml'.format(root, m_name, m_name)\n",
    "    r_movie = '{}/{}/r_{}'.format(root,m_name,m_name)\n",
    "    output_csv_path = '{}/{}/r_{}.txt'.format(root, m_name, m_name)\n",
    "    features2spots(features,r_xml_path,r_movie,output_csv_path)"
   ]
  },
  {
   "cell_type": "code",
   "execution_count": null,
   "metadata": {},
   "outputs": [],
   "source": [
    "for m_name in movie_names:\n",
    "    true = pd.read_csv('{}/{}/True.csv'.format(root,m_name), index_col=0)\n",
    "\n",
    "    data = pd.read_csv('{}/{}/predictions.csv'.format(root,m_name))\n",
    "    data['True_Label'] = true['True_pairs'].values\n",
    "    scaler = MinMaxScaler()\n",
    "    data['contrast_normalized'] = scaler.fit_transform(data['contrast'].values.reshape(-1,1))\n",
    "    data['intensity_normalized'] = scaler.fit_transform(data['intensity'].values.reshape(-1,1))\n",
    "\n",
    "    true = data[data['True_Label']==1]\n",
    "    false = data[data['True_Label']==0]\n",
    "    false = false.sample(100, random_state=3020)\n",
    "    data = pd.concat([false, true], axis=0)\n",
    "\n",
    "    y = data[['True_Label']]\n",
    "    X = data[['center_stdev','normal_stdev','sl_f', 'sl_i', 'sl_max', 'sl_min', 't_cong',\n",
    "            't_overlap', 'intensity_normalized', 'diameter', 'contrast_normalized']]\n",
    "\n",
    "    X.to_csv('{}/{}/X.csv'.format(root, m_name))\n",
    "    y.to_csv('{}/{}/y.csv'.format(root, m_name))"
   ]
  },
  {
   "cell_type": "code",
   "execution_count": null,
   "metadata": {},
   "outputs": [],
   "source": []
  },
  {
   "cell_type": "markdown",
   "metadata": {},
   "source": [
    "# 2. Classifier"
   ]
  },
  {
   "cell_type": "markdown",
   "metadata": {},
   "source": [
    "## a. Hyperparameter tuning"
   ]
  },
  {
   "cell_type": "code",
   "execution_count": null,
   "metadata": {},
   "outputs": [],
   "source": [
    "# get data, if single movie\n",
    "root = '../data/train_example/'\n",
    "m_name = 'Film2'\n",
    "\n",
    "X = pd.read_csv('{}/{}/X.csv'.format(root, m_name),index_col=0)\n",
    "y = pd.read_csv('{}/{}/y.csv'.format(root, m_name),index_col=0)\n",
    "X = X.to_numpy()\n",
    "y = y.to_numpy()\n",
    "X_train, X_test, y_train, y_test = train_test_split(X, y, test_size=0.33, random_state=12)"
   ]
  },
  {
   "cell_type": "markdown",
   "metadata": {},
   "source": [
    "if batch mode, uncomment below (shortcut: Ctrl+'/', or Cmd+'/')"
   ]
  },
  {
   "cell_type": "code",
   "execution_count": null,
   "metadata": {},
   "outputs": [],
   "source": [
    "## get data\n",
    "# root = '../data/train_example/'\n",
    "# (_,movie_names,_) = next(os.walk(root))\n",
    "# x_list = []\n",
    "# y_list = []\n",
    "# for m in movie_names:\n",
    "#     x_list.append(pd.read_csv('{}/{}/X.csv'.format(root, m_name),index_col=0))\n",
    "#     y_list.append(pd.read_csv('{}/{}/y.csv'.format(root, m_name),index_col=0))\n",
    "# # concatenate\n",
    "# X = pd.concat(x_list,axis=1)\n",
    "# y = pd.concat(y_list,axis=1)\n",
    "# X = X.to_numpy()\n",
    "# y = y.to_numpy()\n",
    "# X_train, X_test, y_train, y_test = train_test_split(X, y, test_size=0.33, random_state=12)"
   ]
  },
  {
   "cell_type": "code",
   "execution_count": null,
   "metadata": {},
   "outputs": [],
   "source": []
  },
  {
   "cell_type": "code",
   "execution_count": null,
   "metadata": {},
   "outputs": [],
   "source": [
    "# build a classifier\n",
    "clf = RandomForestClassifier(criterion='gini')\n",
    "\n",
    "\n",
    "# use a full grid over all parameters\n",
    "param_grid = {'min_impurity_decrease':[0.0],\n",
    "              'n_estimators': list(range(10,200,5)),\n",
    "              'warm_start':[False]}\n",
    "\n",
    "# run grid search\n",
    "grid_search = GridSearchCV(clf, param_grid=param_grid,cv=3,scoring='accuracy')\n",
    "start = time()\n",
    "grid_search.fit(X_train, y_train.ravel())\n",
    "\n",
    "print(\"GridSearchCV took %.2f seconds for %d candidate parameter settings.\"\n",
    "      % (time() - start, len(grid_search.cv_results_['params'])))\n",
    "report(grid_search.cv_results_)"
   ]
  },
  {
   "cell_type": "markdown",
   "metadata": {},
   "source": [
    "## b. Classifier training"
   ]
  },
  {
   "cell_type": "code",
   "execution_count": null,
   "metadata": {},
   "outputs": [],
   "source": [
    "final_clf = RandomForestClassifier(min_impurity_decrease=0.0,criterion='gini',warm_start=False, n_estimators=145)\n",
    "final_clf.fit(X_train, np.ravel(y_train,order='C'))\n",
    "y_pred = final_clf.predict(X_test)\n",
    "y_true = np.ravel(y_test,order='C')\n",
    "pre_score = precision_score(y_true, y_pred, average='weighted')\n",
    "acc_score = accuracy_score(y_true, y_pred)\n",
    "f1 = f1_score(y_true,y_pred)\n",
    "# print(classification_report(y_true, y_pred))\n",
    "# print(pre_score)\n",
    "# print(acc_score)\n",
    "# print(f1_score)\n",
    "filename = 'myModel.sav'\n",
    "pickle.dump(final_clf, open(filename, 'wb'))"
   ]
  },
  {
   "cell_type": "code",
   "execution_count": null,
   "metadata": {},
   "outputs": [],
   "source": []
  },
  {
   "cell_type": "code",
   "execution_count": null,
   "metadata": {},
   "outputs": [],
   "source": []
  },
  {
   "cell_type": "code",
   "execution_count": null,
   "metadata": {},
   "outputs": [],
   "source": []
  }
 ],
 "metadata": {
  "kernelspec": {
   "display_name": "Python 3",
   "language": "python",
   "name": "python3"
  },
  "language_info": {
   "codemirror_mode": {
    "name": "ipython",
    "version": 3
   },
   "file_extension": ".py",
   "mimetype": "text/x-python",
   "name": "python",
   "nbconvert_exporter": "python",
   "pygments_lexer": "ipython3",
   "version": "3.8.3"
  }
 },
 "nbformat": 4,
 "nbformat_minor": 4
}
